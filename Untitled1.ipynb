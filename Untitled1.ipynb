{
  "nbformat": 4,
  "nbformat_minor": 0,
  "metadata": {
    "colab": {
      "provenance": [],
      "authorship_tag": "ABX9TyMQy+7zSI4jU7NDthxhsYmA",
      "include_colab_link": true
    },
    "kernelspec": {
      "name": "python3",
      "display_name": "Python 3"
    },
    "language_info": {
      "name": "python"
    }
  },
  "cells": [
    {
      "cell_type": "markdown",
      "metadata": {
        "id": "view-in-github",
        "colab_type": "text"
      },
      "source": [
        "<a href=\"https://colab.research.google.com/github/AzizHidayat9/Tugas-3-Sistem-Kendali/blob/main/Untitled1.ipynb\" target=\"_parent\"><img src=\"https://colab.research.google.com/assets/colab-badge.svg\" alt=\"Open In Colab\"/></a>"
      ]
    },
    {
      "cell_type": "code",
      "execution_count": 3,
      "metadata": {
        "colab": {
          "base_uri": "https://localhost:8080/"
        },
        "id": "imnwtxtj0y72",
        "outputId": "7c25cffd-fe6e-409e-9151-6d08d40dabe4"
      },
      "outputs": [
        {
          "output_type": "stream",
          "name": "stdout",
          "text": [
            "Polynomial value for s=3: 192\n",
            "Routh table:\n",
            "[[ 5.         15.        ]\n",
            " [ 1.          3.        ]\n",
            " [-1.         -1.66666667]\n",
            " [ 0.55555556  0.6       ]]\n",
            "The system is unstable.\n",
            "Enter a new value of K: 10\n",
            "New Routh table:\n",
            "[[ 5.         15.        ]\n",
            " [ 1.          3.        ]\n",
            " [-0.3        -1.66666667]\n",
            " [ 0.16666667  0.6       ]]\n",
            "The system is unstable.\n"
          ]
        }
      ],
      "source": [
        "import numpy as np\n",
        "\n",
        "def calculate_polynomial(coefficients, s):\n",
        "    \"\"\"Calculate the value of a polynomial for a given value of 's'.\"\"\"\n",
        "    result = 0\n",
        "    for i in range(len(coefficients)):\n",
        "        result += coefficients[i] * (s ** (len(coefficients) - i - 1))\n",
        "    return result\n",
        "\n",
        "def create_routh_table(coefficients, K):\n",
        "    \"\"\"Create the Routh table for a given polynomial and K value.\"\"\"\n",
        "    n = len(coefficients)\n",
        "    routh_table = np.zeros((n, (n+1)//2))\n",
        "\n",
        "    # Fill in the first two rows of the Routh table\n",
        "    routh_table[0, :] = coefficients[::2]\n",
        "    routh_table[1, :] = coefficients[1::2]\n",
        "\n",
        "    # Compute the remaining rows of the Routh table\n",
        "    for i in range(2, n):\n",
        "        for j in range((n+1)//2):\n",
        "            if j == 0:\n",
        "                routh_table[i, j] = -routh_table[i-1, j+1] / K\n",
        "            else:\n",
        "                r1 = routh_table[i-1, j]\n",
        "                r2 = routh_table[i-2, j-1]\n",
        "                if r1 == 0:\n",
        "                    r1 = 1e-10  # Avoid divide-by-zero errors\n",
        "                routh_table[i, j] = -1 / r1 * r2\n",
        "\n",
        "    return routh_table\n",
        "\n",
        "def is_system_stable(routh_table):\n",
        "    \"\"\"Determine whether the system is stable or unstable based on its Routh table.\"\"\"\n",
        "    # Check if any element in the first column of the Routh table is zero\n",
        "    if any(routh_table[:, 0] == 0):\n",
        "        return False\n",
        "\n",
        "    # Check if all elements in the first column have the same sign\n",
        "    sign = np.sign(routh_table[0, 0])\n",
        "    if not np.all(np.sign(routh_table[:, 0]) == sign):\n",
        "        return False\n",
        "\n",
        "    # If both checks pass, the system is stable\n",
        "    return True\n",
        "\n",
        "# Example usage\n",
        "coefficients = [5, 1, 15, 3]\n",
        "K = 3\n",
        "\n",
        "# Calculate the polynomial for s = 2\n",
        "s = 3\n",
        "polynomial_value = calculate_polynomial(coefficients, s)\n",
        "print(f\"Polynomial value for s={s}: {polynomial_value}\")\n",
        "\n",
        "# Create the Routh table\n",
        "routh_table = create_routh_table(coefficients, K)\n",
        "print(\"Routh table:\")\n",
        "print(routh_table)\n",
        "\n",
        "# Determine if the system is stable or unstable\n",
        "stable = is_system_stable(routh_table)\n",
        "if stable:\n",
        "    print(\"The system is stable.\")\n",
        "else:\n",
        "    print(\"The system is unstable.\")\n",
        "\n",
        "# Change the value of K\n",
        "new_K = float(input(\"Enter a new value of K: \"))\n",
        "new_routh_table = create_routh_table(coefficients, new_K)\n",
        "print(\"New Routh table:\")\n",
        "print(new_routh_table)\n",
        "\n",
        "# Determine if the system is stable or unstable for the new value of K\n",
        "stable = is_system_stable(new_routh_table)\n",
        "if stable:\n",
        "    print(\"The system is stable.\")\n",
        "else:\n",
        "    print(\"The system is unstable.\")"
      ]
    }
  ]
}